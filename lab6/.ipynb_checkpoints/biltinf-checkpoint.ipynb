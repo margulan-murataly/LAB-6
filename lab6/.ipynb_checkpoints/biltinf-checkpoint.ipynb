{
 "cells": [
  {
   "cell_type": "code",
   "execution_count": 2,
   "id": "2a4c675f-f71c-4565-800e-c0d91c47fd6b",
   "metadata": {},
   "outputs": [
    {
     "name": "stdout",
     "output_type": "stream",
     "text": [
      "24\n"
     ]
    }
   ],
   "source": [
    "from functools import reduce\n",
    "import operator\n",
    "\n",
    "def multiply_list(numbers):\n",
    "    return reduce(operator.mul, numbers, 1)\n",
    "\n",
    "numbers = [2, 3, 4]\n",
    "result = multiply_list(numbers)\n",
    "print(result)"
   ]
  },
  {
   "cell_type": "code",
   "execution_count": 3,
   "id": "ebf39bc3-e4e2-4586-b583-6b075643fc17",
   "metadata": {},
   "outputs": [
    {
     "name": "stdout",
     "output_type": "stream",
     "text": [
      "Uppercase: 2\n",
      "Lowercase: 7\n"
     ]
    }
   ],
   "source": [
    "def count_case_letters(s):\n",
    "    upper_case = sum(1 for char in s if char.isupper())\n",
    "    lower_case = sum(1 for char in s if char.islower())\n",
    "    return upper_case, lower_case\n",
    "\n",
    "input_string = \"Hello Miko!\"\n",
    "upper, lower = count_case_letters(input_string)\n",
    "print(\"Uppercase:\", upper)\n",
    "print(\"Lowercase:\", lower)"
   ]
  },
  {
   "cell_type": "code",
   "execution_count": 5,
   "id": "90329d3d-5d3e-4cc2-ba38-5b29dc683c34",
   "metadata": {},
   "outputs": [
    {
     "name": "stdout",
     "output_type": "stream",
     "text": [
      "a palindrome.\n"
     ]
    }
   ],
   "source": [
    "def is_palindrome(s):\n",
    "    cleaned = ''.join(filter(str.isalnum, s)).lower()\n",
    "    return cleaned == cleaned[::-1]\n",
    "\n",
    "input_string = \"A man, a plan, a canal: Panama\"\n",
    "if is_palindrome(input_string):\n",
    "    print(\"a palindrome.\")\n",
    "else:\n",
    "    print(\"not a palindrome.\")"
   ]
  },
  {
   "cell_type": "code",
   "execution_count": 6,
   "id": "b40441ab-525d-4e64-a360-e36b5c483d4c",
   "metadata": {},
   "outputs": [
    {
     "name": "stdin",
     "output_type": "stream",
     "text": [
      "Enter a number:  12\n",
      "Enter delay in milliseconds:  23\n"
     ]
    },
    {
     "name": "stdout",
     "output_type": "stream",
     "text": [
      "Square root of 12 after 23 milliseconds is 3.4641016151377544\n"
     ]
    }
   ],
   "source": [
    "import time\n",
    "import math\n",
    "\n",
    "number = int(input(\"Enter a number: \"))\n",
    "delay_ms = int(input(\"Enter milliseconds: \"))\n",
    "\n",
    "time.sleep(delay_ms / 1000)\n",
    "\n",
    "sqrt_result = math.sqrt(number)\n",
    "\n",
    "print(f\"Square root of {number} after {delay_ms} milliseconds is {sqrt_result}\")"
   ]
  },
  {
   "cell_type": "code",
   "execution_count": 8,
   "id": "a134de37-c7e7-46a9-b16d-513682635e43",
   "metadata": {},
   "outputs": [
    {
     "name": "stdout",
     "output_type": "stream",
     "text": [
      "All are true: True\n"
     ]
    }
   ],
   "source": [
    "def all_true_elements(t):\n",
    "    return all(t)\n",
    "\n",
    "sample_tuple = (True, 1, \"Hello\", [1])\n",
    "result = all_true_elements(sample_tuple)\n",
    "print(\"All are true:\", result)"
   ]
  },
  {
   "cell_type": "code",
   "execution_count": null,
   "id": "8cdf1b0b-d3cc-4a4e-ac39-4d9adb64b2a2",
   "metadata": {},
   "outputs": [],
   "source": []
  }
 ],
 "metadata": {
  "kernelspec": {
   "display_name": "Python 3 (ipykernel)",
   "language": "python",
   "name": "python3"
  },
  "language_info": {
   "codemirror_mode": {
    "name": "ipython",
    "version": 3
   },
   "file_extension": ".py",
   "mimetype": "text/x-python",
   "name": "python",
   "nbconvert_exporter": "python",
   "pygments_lexer": "ipython3",
   "version": "3.12.7"
  }
 },
 "nbformat": 4,
 "nbformat_minor": 5
}
