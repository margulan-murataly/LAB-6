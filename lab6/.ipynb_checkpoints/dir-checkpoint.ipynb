{
 "cells": [
  {
   "cell_type": "code",
   "execution_count": 1,
   "id": "5d292f87-4399-4c0e-bbf2-dc15d9a35cf6",
   "metadata": {},
   "outputs": [
    {
     "name": "stdin",
     "output_type": "stream",
     "text": [
      "Enter the path:  \n"
     ]
    },
    {
     "name": "stdout",
     "output_type": "stream",
     "text": [
      "Error: Path '' not found.\n"
     ]
    }
   ],
   "source": [
    "import os\n",
    "\n",
    "def list_contents(path):\n",
    "    try:\n",
    "        all_entries = os.listdir(path)\n",
    "        directories = [entry for entry in all_entries if os.path.isdir(os.path.join(path, entry))]\n",
    "        files = [entry for entry in all_entries if os.path.isfile(os.path.join(path, entry))]\n",
    "\n",
    "        print(f\"\\nAll entries in '{path}':\")\n",
    "        print(all_entries)\n",
    "\n",
    "        print(f\"\\nOnly directories in '{path}':\")\n",
    "        print(directories)\n",
    "\n",
    "        print(f\"\\nOnly files in '{path}':\")\n",
    "        print(files)\n",
    "\n",
    "    except FileNotFoundError:\n",
    "        print(f\"Error: Path '{path}' not found.\")\n",
    "    except Exception as e:\n",
    "        print(f\"Error: {e}\")\n",
    "\n",
    "# Example usage\n",
    "user_path = input(\"Enter the path: \")\n",
    "list_contents(user_path)"
   ]
  },
  {
   "cell_type": "code",
   "execution_count": 2,
   "id": "3cb839fd-b48a-4464-97a6-adde202da568",
   "metadata": {},
   "outputs": [
    {
     "name": "stdin",
     "output_type": "stream",
     "text": [
      "Enter the path to check:  \n"
     ]
    },
    {
     "name": "stdout",
     "output_type": "stream",
     "text": [
      "\n",
      "Checking access for: \n",
      "Path does not exist.\n"
     ]
    }
   ],
   "source": [
    "import os\n",
    "\n",
    "def check_path_access(path):\n",
    "    print(f\"\\nChecking access for: {path}\")\n",
    "    \n",
    "    if os.path.exists(path):\n",
    "        print(\"Path exists.\")\n",
    "        print(\"Readable:\", os.access(path, os.R_OK))\n",
    "        print(\"Writable:\", os.access(path, os.W_OK))\n",
    "        print(\"Executable:\", os.access(path, os.X_OK))\n",
    "    else:\n",
    "        print(\"Path does not exist.\")\n",
    "\n",
    "user_path = input(\"Enter the path to check: \")\n",
    "check_path_access(user_path)"
   ]
  },
  {
   "cell_type": "code",
   "execution_count": 3,
   "id": "84f290f9-d83a-4797-92dd-9cb268ca6835",
   "metadata": {},
   "outputs": [
    {
     "name": "stdin",
     "output_type": "stream",
     "text": [
      "Enter the path:  \n"
     ]
    },
    {
     "name": "stdout",
     "output_type": "stream",
     "text": [
      "\n",
      "Path does not exist: \n"
     ]
    }
   ],
   "source": [
    "import os\n",
    "\n",
    "def check_path_info(path):\n",
    "    if os.path.exists(path):\n",
    "        print(f\"\\nPath exists: {path}\")\n",
    "        print(\"Directory part:\", os.path.dirname(path))\n",
    "        print(\"File name part:\", os.path.basename(path))\n",
    "    else:\n",
    "        print(f\"\\nPath does not exist: {path}\")\n",
    "\n",
    "user_input = input(\"Enter the path: \")\n",
    "check_path_info(user_input)"
   ]
  },
  {
   "cell_type": "code",
   "execution_count": 4,
   "id": "cae0645f-7c24-41a2-bbaf-48fba26102cb",
   "metadata": {},
   "outputs": [
    {
     "name": "stdin",
     "output_type": "stream",
     "text": [
      "Enter the file path:  \n"
     ]
    },
    {
     "name": "stdout",
     "output_type": "stream",
     "text": [
      "File not found: \n"
     ]
    }
   ],
   "source": [
    "def count_lines_in_file(file_path):\n",
    "    try:\n",
    "        with open(file_path, 'r') as file:\n",
    "            line_count = sum(1 for _ in file)\n",
    "        print(f\"Number of lines in '{file_path}': {line_count}\")\n",
    "    except FileNotFoundError:\n",
    "        print(f\"File not found: {file_path}\")\n",
    "    except Exception as e:\n",
    "        print(f\"An error occurred: {e}\")\n",
    "\n",
    "file_path = input(\"Enter the file path: \")\n",
    "count_lines_in_file(file_path)"
   ]
  },
  {
   "cell_type": "code",
   "execution_count": 5,
   "id": "05850082-316a-409f-9cec-d2841f112ce9",
   "metadata": {},
   "outputs": [
    {
     "name": "stdout",
     "output_type": "stream",
     "text": [
      "List written to 'fruits.txt' successfully.\n"
     ]
    }
   ],
   "source": [
    "def write_list_to_file(data_list, file_path):\n",
    "    try:\n",
    "        with open(file_path, 'w') as file:\n",
    "            for item in data_list:\n",
    "                file.write(f\"{item}\\n\")\n",
    "        print(f\"List written to '{file_path}' successfully.\")\n",
    "    except Exception as e:\n",
    "        print(f\"An error occurred: {e}\")\n",
    "\n",
    "my_list = ['apple', 'banana', 'cherry', 'date']\n",
    "file_path = 'fruits.txt'\n",
    "write_list_to_file(my_list, file_path)"
   ]
  },
  {
   "cell_type": "code",
   "execution_count": 6,
   "id": "649e4f9e-e438-4c86-80c8-9d4f4a44c308",
   "metadata": {},
   "outputs": [
    {
     "name": "stdout",
     "output_type": "stream",
     "text": [
      "Created: A.txt\n",
      "Created: B.txt\n",
      "Created: C.txt\n",
      "Created: D.txt\n",
      "Created: E.txt\n",
      "Created: F.txt\n",
      "Created: G.txt\n",
      "Created: H.txt\n",
      "Created: I.txt\n",
      "Created: J.txt\n",
      "Created: K.txt\n",
      "Created: L.txt\n",
      "Created: M.txt\n",
      "Created: N.txt\n",
      "Created: O.txt\n",
      "Created: P.txt\n",
      "Created: Q.txt\n",
      "Created: R.txt\n",
      "Created: S.txt\n",
      "Created: T.txt\n",
      "Created: U.txt\n",
      "Created: V.txt\n",
      "Created: W.txt\n",
      "Created: X.txt\n",
      "Created: Y.txt\n",
      "Created: Z.txt\n"
     ]
    }
   ],
   "source": [
    "import string\n",
    "\n",
    "def generate_alphabet_files():\n",
    "    for letter in string.ascii_uppercase:  # 'A' to 'Z'\n",
    "        filename = f\"{letter}.txt\"\n",
    "        with open(filename, 'w') as f:\n",
    "            f.write(f\"This is file {filename}\\n\")\n",
    "        print(f\"Created: {filename}\")\n",
    "\n",
    "generate_alphabet_files()"
   ]
  },
  {
   "cell_type": "code",
   "execution_count": 7,
   "id": "75bf2c2c-ffc2-4f2e-a792-61ac4ff59485",
   "metadata": {},
   "outputs": [
    {
     "name": "stdin",
     "output_type": "stream",
     "text": [
      "Enter source file path:  \n",
      "Enter destination file path:  \n"
     ]
    },
    {
     "name": "stdout",
     "output_type": "stream",
     "text": [
      "File not found: \n"
     ]
    }
   ],
   "source": [
    "def copy_file(source_path, destination_path):\n",
    "    try:\n",
    "        with open(source_path, 'r') as src_file:\n",
    "            content = src_file.read()\n",
    "        \n",
    "        with open(destination_path, 'w') as dest_file:\n",
    "            dest_file.write(content)\n",
    "        \n",
    "        print(f\"Contents copied from '{source_path}' to '{destination_path}' successfully.\")\n",
    "    except FileNotFoundError:\n",
    "        print(f\"File not found: {source_path}\")\n",
    "    except Exception as e:\n",
    "        print(f\"An error occurred: {e}\")\n",
    "\n",
    "src = input(\"Enter source file path: \")\n",
    "dst = input(\"Enter destination file path: \")\n",
    "copy_file(src, dst)"
   ]
  },
  {
   "cell_type": "code",
   "execution_count": 8,
   "id": "d8466ee4-5c61-4873-8f32-00b0ed1168a7",
   "metadata": {},
   "outputs": [
    {
     "name": "stdin",
     "output_type": "stream",
     "text": [
      "Enter the file path to delete:  \n"
     ]
    },
    {
     "name": "stdout",
     "output_type": "stream",
     "text": [
      "Path does not exist: \n"
     ]
    }
   ],
   "source": [
    "import os\n",
    "\n",
    "def delete_file(path):\n",
    "    if not os.path.exists(path):\n",
    "        print(f\"Path does not exist: {path}\")\n",
    "        return\n",
    "\n",
    "    if not os.path.isfile(path):\n",
    "        print(f\"The path is not a file: {path}\")\n",
    "        return\n",
    "\n",
    "    if os.access(path, os.R_OK) and os.access(path, os.W_OK):\n",
    "        try:\n",
    "            os.remove(path)\n",
    "            print(f\"File deleted successfully: {path}\")\n",
    "        except Exception as e:\n",
    "            print(f\"Error while deleting file: {e}\")\n",
    "    else:\n",
    "        print(f\"Insufficient permissions to delete the file: {path}\")\n",
    "\n",
    "file_path = input(\"Enter the file path to delete: \")\n",
    "delete_file(file_path)"
   ]
  },
  {
   "cell_type": "code",
   "execution_count": null,
   "id": "ae18d518-1498-4bf1-9daf-562c5312830d",
   "metadata": {},
   "outputs": [],
   "source": []
  }
 ],
 "metadata": {
  "kernelspec": {
   "display_name": "Python 3 (ipykernel)",
   "language": "python",
   "name": "python3"
  },
  "language_info": {
   "codemirror_mode": {
    "name": "ipython",
    "version": 3
   },
   "file_extension": ".py",
   "mimetype": "text/x-python",
   "name": "python",
   "nbconvert_exporter": "python",
   "pygments_lexer": "ipython3",
   "version": "3.12.7"
  }
 },
 "nbformat": 4,
 "nbformat_minor": 5
}
